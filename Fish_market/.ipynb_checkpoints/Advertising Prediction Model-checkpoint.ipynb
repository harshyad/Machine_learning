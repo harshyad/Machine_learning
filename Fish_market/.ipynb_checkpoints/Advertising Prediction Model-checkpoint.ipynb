{
 "cells": [
  {
   "cell_type": "code",
   "execution_count": null,
   "id": "b9aa1483",
   "metadata": {},
   "outputs": [],
   "source": [
    "import numpy as np\n",
    "import pandas as pd\n",
    "import matplotlib.pyplot as plt\n",
    "import seaborn as sns\n",
    "%matplotlib inline"
   ]
  },
  {
   "cell_type": "code",
   "execution_count": null,
   "id": "02afe3a8",
   "metadata": {},
   "outputs": [],
   "source": [
    "df = pd.read_csv('Advertising.csv',index_col='Unnamed: 0')"
   ]
  },
  {
   "cell_type": "code",
   "execution_count": 3,
   "id": "1cc020ec",
   "metadata": {},
   "outputs": [
    {
     "data": {
      "text/html": [
       "<div>\n",
       "<style scoped>\n",
       "    .dataframe tbody tr th:only-of-type {\n",
       "        vertical-align: middle;\n",
       "    }\n",
       "\n",
       "    .dataframe tbody tr th {\n",
       "        vertical-align: top;\n",
       "    }\n",
       "\n",
       "    .dataframe thead th {\n",
       "        text-align: right;\n",
       "    }\n",
       "</style>\n",
       "<table border=\"1\" class=\"dataframe\">\n",
       "  <thead>\n",
       "    <tr style=\"text-align: right;\">\n",
       "      <th></th>\n",
       "      <th>TV</th>\n",
       "      <th>Radio</th>\n",
       "      <th>Newspaper</th>\n",
       "      <th>Sales</th>\n",
       "    </tr>\n",
       "  </thead>\n",
       "  <tbody>\n",
       "    <tr>\n",
       "      <th>1</th>\n",
       "      <td>230.1</td>\n",
       "      <td>37.8</td>\n",
       "      <td>69.2</td>\n",
       "      <td>22.1</td>\n",
       "    </tr>\n",
       "    <tr>\n",
       "      <th>2</th>\n",
       "      <td>44.5</td>\n",
       "      <td>39.3</td>\n",
       "      <td>45.1</td>\n",
       "      <td>10.4</td>\n",
       "    </tr>\n",
       "    <tr>\n",
       "      <th>3</th>\n",
       "      <td>17.2</td>\n",
       "      <td>45.9</td>\n",
       "      <td>69.3</td>\n",
       "      <td>9.3</td>\n",
       "    </tr>\n",
       "    <tr>\n",
       "      <th>4</th>\n",
       "      <td>151.5</td>\n",
       "      <td>41.3</td>\n",
       "      <td>58.5</td>\n",
       "      <td>18.5</td>\n",
       "    </tr>\n",
       "    <tr>\n",
       "      <th>5</th>\n",
       "      <td>180.8</td>\n",
       "      <td>10.8</td>\n",
       "      <td>58.4</td>\n",
       "      <td>12.9</td>\n",
       "    </tr>\n",
       "  </tbody>\n",
       "</table>\n",
       "</div>"
      ],
      "text/plain": [
       "      TV  Radio  Newspaper  Sales\n",
       "1  230.1   37.8       69.2   22.1\n",
       "2   44.5   39.3       45.1   10.4\n",
       "3   17.2   45.9       69.3    9.3\n",
       "4  151.5   41.3       58.5   18.5\n",
       "5  180.8   10.8       58.4   12.9"
      ]
     },
     "execution_count": 3,
     "metadata": {},
     "output_type": "execute_result"
    }
   ],
   "source": [
    "df.head()"
   ]
  },
  {
   "cell_type": "code",
   "execution_count": 4,
   "id": "74f1ec2c",
   "metadata": {},
   "outputs": [
    {
     "data": {
      "text/html": [
       "<div>\n",
       "<style scoped>\n",
       "    .dataframe tbody tr th:only-of-type {\n",
       "        vertical-align: middle;\n",
       "    }\n",
       "\n",
       "    .dataframe tbody tr th {\n",
       "        vertical-align: top;\n",
       "    }\n",
       "\n",
       "    .dataframe thead th {\n",
       "        text-align: right;\n",
       "    }\n",
       "</style>\n",
       "<table border=\"1\" class=\"dataframe\">\n",
       "  <thead>\n",
       "    <tr style=\"text-align: right;\">\n",
       "      <th></th>\n",
       "      <th>TV</th>\n",
       "      <th>Radio</th>\n",
       "      <th>Newspaper</th>\n",
       "      <th>Sales</th>\n",
       "    </tr>\n",
       "  </thead>\n",
       "  <tbody>\n",
       "    <tr>\n",
       "      <th>196</th>\n",
       "      <td>38.2</td>\n",
       "      <td>3.7</td>\n",
       "      <td>13.8</td>\n",
       "      <td>7.6</td>\n",
       "    </tr>\n",
       "    <tr>\n",
       "      <th>197</th>\n",
       "      <td>94.2</td>\n",
       "      <td>4.9</td>\n",
       "      <td>8.1</td>\n",
       "      <td>9.7</td>\n",
       "    </tr>\n",
       "    <tr>\n",
       "      <th>198</th>\n",
       "      <td>177.0</td>\n",
       "      <td>9.3</td>\n",
       "      <td>6.4</td>\n",
       "      <td>12.8</td>\n",
       "    </tr>\n",
       "    <tr>\n",
       "      <th>199</th>\n",
       "      <td>283.6</td>\n",
       "      <td>42.0</td>\n",
       "      <td>66.2</td>\n",
       "      <td>25.5</td>\n",
       "    </tr>\n",
       "    <tr>\n",
       "      <th>200</th>\n",
       "      <td>232.1</td>\n",
       "      <td>8.6</td>\n",
       "      <td>8.7</td>\n",
       "      <td>13.4</td>\n",
       "    </tr>\n",
       "  </tbody>\n",
       "</table>\n",
       "</div>"
      ],
      "text/plain": [
       "        TV  Radio  Newspaper  Sales\n",
       "196   38.2    3.7       13.8    7.6\n",
       "197   94.2    4.9        8.1    9.7\n",
       "198  177.0    9.3        6.4   12.8\n",
       "199  283.6   42.0       66.2   25.5\n",
       "200  232.1    8.6        8.7   13.4"
      ]
     },
     "execution_count": 4,
     "metadata": {},
     "output_type": "execute_result"
    }
   ],
   "source": [
    "df.tail()"
   ]
  },
  {
   "cell_type": "code",
   "execution_count": 5,
   "id": "fac3950e",
   "metadata": {},
   "outputs": [
    {
     "data": {
      "text/plain": [
       "(200, 4)"
      ]
     },
     "execution_count": 5,
     "metadata": {},
     "output_type": "execute_result"
    }
   ],
   "source": [
    "df.shape"
   ]
  },
  {
   "cell_type": "code",
   "execution_count": 6,
   "id": "974c002b",
   "metadata": {},
   "outputs": [
    {
     "data": {
      "text/plain": [
       "Index(['TV', 'Radio', 'Newspaper', 'Sales'], dtype='object')"
      ]
     },
     "execution_count": 6,
     "metadata": {},
     "output_type": "execute_result"
    }
   ],
   "source": [
    "df.columns"
   ]
  },
  {
   "cell_type": "code",
   "execution_count": 7,
   "id": "54693382",
   "metadata": {},
   "outputs": [
    {
     "name": "stdout",
     "output_type": "stream",
     "text": [
      "<class 'pandas.core.frame.DataFrame'>\n",
      "Int64Index: 200 entries, 1 to 200\n",
      "Data columns (total 4 columns):\n",
      " #   Column     Non-Null Count  Dtype  \n",
      "---  ------     --------------  -----  \n",
      " 0   TV         200 non-null    float64\n",
      " 1   Radio      200 non-null    float64\n",
      " 2   Newspaper  200 non-null    float64\n",
      " 3   Sales      200 non-null    float64\n",
      "dtypes: float64(4)\n",
      "memory usage: 7.8 KB\n"
     ]
    }
   ],
   "source": [
    "df.info()"
   ]
  },
  {
   "cell_type": "code",
   "execution_count": 8,
   "id": "67dde5bf",
   "metadata": {
    "scrolled": true
   },
   "outputs": [
    {
     "data": {
      "text/plain": [
       "TV           float64\n",
       "Radio        float64\n",
       "Newspaper    float64\n",
       "Sales        float64\n",
       "dtype: object"
      ]
     },
     "execution_count": 8,
     "metadata": {},
     "output_type": "execute_result"
    }
   ],
   "source": [
    "df.dtypes"
   ]
  },
  {
   "cell_type": "code",
   "execution_count": 9,
   "id": "d2e05b07",
   "metadata": {},
   "outputs": [
    {
     "data": {
      "text/html": [
       "<div>\n",
       "<style scoped>\n",
       "    .dataframe tbody tr th:only-of-type {\n",
       "        vertical-align: middle;\n",
       "    }\n",
       "\n",
       "    .dataframe tbody tr th {\n",
       "        vertical-align: top;\n",
       "    }\n",
       "\n",
       "    .dataframe thead th {\n",
       "        text-align: right;\n",
       "    }\n",
       "</style>\n",
       "<table border=\"1\" class=\"dataframe\">\n",
       "  <thead>\n",
       "    <tr style=\"text-align: right;\">\n",
       "      <th></th>\n",
       "      <th>TV</th>\n",
       "      <th>Radio</th>\n",
       "      <th>Newspaper</th>\n",
       "      <th>Sales</th>\n",
       "    </tr>\n",
       "  </thead>\n",
       "  <tbody>\n",
       "    <tr>\n",
       "      <th>count</th>\n",
       "      <td>200.000000</td>\n",
       "      <td>200.000000</td>\n",
       "      <td>200.000000</td>\n",
       "      <td>200.000000</td>\n",
       "    </tr>\n",
       "    <tr>\n",
       "      <th>mean</th>\n",
       "      <td>147.042500</td>\n",
       "      <td>23.264000</td>\n",
       "      <td>30.554000</td>\n",
       "      <td>14.022500</td>\n",
       "    </tr>\n",
       "    <tr>\n",
       "      <th>std</th>\n",
       "      <td>85.854236</td>\n",
       "      <td>14.846809</td>\n",
       "      <td>21.778621</td>\n",
       "      <td>5.217457</td>\n",
       "    </tr>\n",
       "    <tr>\n",
       "      <th>min</th>\n",
       "      <td>0.700000</td>\n",
       "      <td>0.000000</td>\n",
       "      <td>0.300000</td>\n",
       "      <td>1.600000</td>\n",
       "    </tr>\n",
       "    <tr>\n",
       "      <th>25%</th>\n",
       "      <td>74.375000</td>\n",
       "      <td>9.975000</td>\n",
       "      <td>12.750000</td>\n",
       "      <td>10.375000</td>\n",
       "    </tr>\n",
       "    <tr>\n",
       "      <th>50%</th>\n",
       "      <td>149.750000</td>\n",
       "      <td>22.900000</td>\n",
       "      <td>25.750000</td>\n",
       "      <td>12.900000</td>\n",
       "    </tr>\n",
       "    <tr>\n",
       "      <th>75%</th>\n",
       "      <td>218.825000</td>\n",
       "      <td>36.525000</td>\n",
       "      <td>45.100000</td>\n",
       "      <td>17.400000</td>\n",
       "    </tr>\n",
       "    <tr>\n",
       "      <th>max</th>\n",
       "      <td>296.400000</td>\n",
       "      <td>49.600000</td>\n",
       "      <td>114.000000</td>\n",
       "      <td>27.000000</td>\n",
       "    </tr>\n",
       "  </tbody>\n",
       "</table>\n",
       "</div>"
      ],
      "text/plain": [
       "               TV       Radio   Newspaper       Sales\n",
       "count  200.000000  200.000000  200.000000  200.000000\n",
       "mean   147.042500   23.264000   30.554000   14.022500\n",
       "std     85.854236   14.846809   21.778621    5.217457\n",
       "min      0.700000    0.000000    0.300000    1.600000\n",
       "25%     74.375000    9.975000   12.750000   10.375000\n",
       "50%    149.750000   22.900000   25.750000   12.900000\n",
       "75%    218.825000   36.525000   45.100000   17.400000\n",
       "max    296.400000   49.600000  114.000000   27.000000"
      ]
     },
     "execution_count": 9,
     "metadata": {},
     "output_type": "execute_result"
    }
   ],
   "source": [
    "df.describe()"
   ]
  },
  {
   "cell_type": "code",
   "execution_count": 10,
   "id": "1863aafd",
   "metadata": {},
   "outputs": [
    {
     "data": {
      "text/plain": [
       "TV           0.0\n",
       "Radio        0.0\n",
       "Newspaper    0.0\n",
       "Sales        0.0\n",
       "dtype: float64"
      ]
     },
     "execution_count": 10,
     "metadata": {},
     "output_type": "execute_result"
    }
   ],
   "source": [
    "df.isnull().mean()"
   ]
  },
  {
   "cell_type": "code",
   "execution_count": 11,
   "id": "83c69d5f",
   "metadata": {},
   "outputs": [],
   "source": [
    "df.TV.iloc[2] = np.nan"
   ]
  },
  {
   "cell_type": "code",
   "execution_count": 12,
   "id": "e23e6c8f",
   "metadata": {},
   "outputs": [
    {
     "data": {
      "text/plain": [
       "TV           1\n",
       "Radio        0\n",
       "Newspaper    0\n",
       "Sales        0\n",
       "dtype: int64"
      ]
     },
     "execution_count": 12,
     "metadata": {},
     "output_type": "execute_result"
    }
   ],
   "source": [
    "df.isnull().sum()"
   ]
  },
  {
   "cell_type": "code",
   "execution_count": 13,
   "id": "ed3a3203",
   "metadata": {},
   "outputs": [
    {
     "data": {
      "text/html": [
       "<div>\n",
       "<style scoped>\n",
       "    .dataframe tbody tr th:only-of-type {\n",
       "        vertical-align: middle;\n",
       "    }\n",
       "\n",
       "    .dataframe tbody tr th {\n",
       "        vertical-align: top;\n",
       "    }\n",
       "\n",
       "    .dataframe thead th {\n",
       "        text-align: right;\n",
       "    }\n",
       "</style>\n",
       "<table border=\"1\" class=\"dataframe\">\n",
       "  <thead>\n",
       "    <tr style=\"text-align: right;\">\n",
       "      <th></th>\n",
       "      <th>TV</th>\n",
       "      <th>Radio</th>\n",
       "      <th>Newspaper</th>\n",
       "      <th>Sales</th>\n",
       "    </tr>\n",
       "  </thead>\n",
       "  <tbody>\n",
       "    <tr>\n",
       "      <th>3</th>\n",
       "      <td>NaN</td>\n",
       "      <td>45.9</td>\n",
       "      <td>69.3</td>\n",
       "      <td>9.3</td>\n",
       "    </tr>\n",
       "  </tbody>\n",
       "</table>\n",
       "</div>"
      ],
      "text/plain": [
       "   TV  Radio  Newspaper  Sales\n",
       "3 NaN   45.9       69.3    9.3"
      ]
     },
     "execution_count": 13,
     "metadata": {},
     "output_type": "execute_result"
    }
   ],
   "source": [
    "df[df['TV'].isnull()]"
   ]
  },
  {
   "cell_type": "code",
   "execution_count": 14,
   "id": "4310f283",
   "metadata": {},
   "outputs": [
    {
     "data": {
      "text/html": [
       "<div>\n",
       "<style scoped>\n",
       "    .dataframe tbody tr th:only-of-type {\n",
       "        vertical-align: middle;\n",
       "    }\n",
       "\n",
       "    .dataframe tbody tr th {\n",
       "        vertical-align: top;\n",
       "    }\n",
       "\n",
       "    .dataframe thead th {\n",
       "        text-align: right;\n",
       "    }\n",
       "</style>\n",
       "<table border=\"1\" class=\"dataframe\">\n",
       "  <thead>\n",
       "    <tr style=\"text-align: right;\">\n",
       "      <th></th>\n",
       "      <th>TV</th>\n",
       "      <th>Radio</th>\n",
       "      <th>Newspaper</th>\n",
       "      <th>Sales</th>\n",
       "    </tr>\n",
       "  </thead>\n",
       "  <tbody>\n",
       "    <tr>\n",
       "      <th>3</th>\n",
       "      <td>NaN</td>\n",
       "      <td>45.9</td>\n",
       "      <td>69.3</td>\n",
       "      <td>9.3</td>\n",
       "    </tr>\n",
       "  </tbody>\n",
       "</table>\n",
       "</div>"
      ],
      "text/plain": [
       "   TV  Radio  Newspaper  Sales\n",
       "3 NaN   45.9       69.3    9.3"
      ]
     },
     "execution_count": 14,
     "metadata": {},
     "output_type": "execute_result"
    }
   ],
   "source": [
    "df.iloc[np.where(df['TV'].isnull())]"
   ]
  },
  {
   "cell_type": "code",
   "execution_count": 15,
   "id": "d03d4ea5",
   "metadata": {},
   "outputs": [],
   "source": [
    "# df['TV'] = df['TV'].fillna(df['TV'].mean())\n",
    "df['TV'].fillna(df['TV'].mean(), inplace=True)"
   ]
  },
  {
   "cell_type": "code",
   "execution_count": 16,
   "id": "88f8f105",
   "metadata": {
    "scrolled": true
   },
   "outputs": [
    {
     "data": {
      "text/plain": [
       "TV           0\n",
       "Radio        0\n",
       "Newspaper    0\n",
       "Sales        0\n",
       "dtype: int64"
      ]
     },
     "execution_count": 16,
     "metadata": {},
     "output_type": "execute_result"
    }
   ],
   "source": [
    "df.isnull().sum()"
   ]
  },
  {
   "cell_type": "code",
   "execution_count": 17,
   "id": "753c2c3d",
   "metadata": {},
   "outputs": [
    {
     "data": {
      "text/plain": [
       "<seaborn.axisgrid.PairGrid at 0x14cf8f79940>"
      ]
     },
     "execution_count": 17,
     "metadata": {},
     "output_type": "execute_result"
    },
    {
     "data": {
      "image/png": "[encoded data removed]",
      "text/plain": [
       "<Figure size 720x720 with 20 Axes>"
      ]
     },
     "metadata": {
      "needs_background": "light"
     },
     "output_type": "display_data"
    }
   ],
   "source": [
    "sns.pairplot(df, kind='reg')"
   ]
  },
  {
   "cell_type": "code",
   "execution_count": 18,
   "id": "9e45ad8e",
   "metadata": {},
   "outputs": [
    {
     "data": {
      "text/plain": [
       "<AxesSubplot:ylabel='Density'>"
      ]
     },
     "execution_count": 18,
     "metadata": {},
     "output_type": "execute_result"
    },
    {
     "data": {
      "image/png": "[encoded data removed]",
      "text/plain": [
       "<Figure size 432x288 with 1 Axes>"
      ]
     },
     "metadata": {
      "needs_background": "light"
     },
     "output_type": "display_data"
    }
   ],
   "source": [
    "df['Sales'].plot(kind='kde')"
   ]
  },
  {
   "cell_type": "code",
   "execution_count": 19,
   "id": "732dd7cc",
   "metadata": {},
   "outputs": [
    {
     "name": "stderr",
     "output_type": "stream",
     "text": [
      "C:\\Users\\harsh\\anaconda3\\lib\\site-packages\\seaborn\\distributions.py:2619: FutureWarning: `distplot` is a deprecated function and will be removed in a future version. Please adapt your code to use either `displot` (a figure-level function with similar flexibility) or `histplot` (an axes-level function for histograms).\n",
      "  warnings.warn(msg, FutureWarning)\n"
     ]
    },
    {
     "data": {
      "text/plain": [
       "<AxesSubplot:xlabel='Sales', ylabel='Density'>"
      ]
     },
     "execution_count": 19,
     "metadata": {},
     "output_type": "execute_result"
    },
    {
     "data": {
      "image/png": "[encoded data removed]",
      "text/plain": [
       "<Figure size 432x288 with 1 Axes>"
      ]
     },
     "metadata": {
      "needs_background": "light"
     },
     "output_type": "display_data"
    }
   ],
   "source": [
    "sns.distplot(df['Sales'])"
   ]
  },
  {
   "cell_type": "code",
   "execution_count": 20,
   "id": "eb4e8a3d",
   "metadata": {
    "scrolled": true
   },
   "outputs": [
    {
     "data": {
      "text/plain": [
       "0.4075714250767127"
      ]
     },
     "execution_count": 20,
     "metadata": {},
     "output_type": "execute_result"
    }
   ],
   "source": [
    "df['Sales'].skew()"
   ]
  },
  {
   "cell_type": "code",
   "execution_count": 21,
   "id": "ae02a33a",
   "metadata": {},
   "outputs": [
    {
     "name": "stderr",
     "output_type": "stream",
     "text": [
      "C:\\Users\\harsh\\anaconda3\\lib\\site-packages\\seaborn\\distributions.py:2619: FutureWarning: `distplot` is a deprecated function and will be removed in a future version. Please adapt your code to use either `displot` (a figure-level function with similar flexibility) or `histplot` (an axes-level function for histograms).\n",
      "  warnings.warn(msg, FutureWarning)\n"
     ]
    },
    {
     "data": {
      "text/plain": [
       "<AxesSubplot:xlabel='Newspaper', ylabel='Density'>"
      ]
     },
     "execution_count": 21,
     "metadata": {},
     "output_type": "execute_result"
    },
    {
     "data": {
      "image/png": "[encoded data removed]",
      "text/plain": [
       "<Figure size 432x288 with 1 Axes>"
      ]
     },
     "metadata": {
      "needs_background": "light"
     },
     "output_type": "display_data"
    }
   ],
   "source": [
    "sns.distplot(df['Newspaper'])"
   ]
  },
  {
   "cell_type": "code",
   "execution_count": 22,
   "id": "8f1544f0",
   "metadata": {},
   "outputs": [
    {
     "data": {
      "text/plain": [
       "0.8947204074986175"
      ]
     },
     "execution_count": 22,
     "metadata": {},
     "output_type": "execute_result"
    }
   ],
   "source": [
    "df['Newspaper'].skew()"
   ]
  },
  {
   "cell_type": "code",
   "execution_count": 23,
   "id": "2083adc3",
   "metadata": {},
   "outputs": [
    {
     "name": "stderr",
     "output_type": "stream",
     "text": [
      "C:\\Users\\harsh\\anaconda3\\lib\\site-packages\\seaborn\\distributions.py:2619: FutureWarning: `distplot` is a deprecated function and will be removed in a future version. Please adapt your code to use either `displot` (a figure-level function with similar flexibility) or `histplot` (an axes-level function for histograms).\n",
      "  warnings.warn(msg, FutureWarning)\n"
     ]
    },
    {
     "data": {
      "text/plain": [
       "0.06238771883281062"
      ]
     },
     "execution_count": 23,
     "metadata": {},
     "output_type": "execute_result"
    },
    {
     "data": {
      "image/png": "[encoded data removed]",
      "text/plain": [
       "<Figure size 432x288 with 1 Axes>"
      ]
     },
     "metadata": {
      "needs_background": "light"
     },
     "output_type": "display_data"
    }
   ],
   "source": [
    "sns.distplot(np.sqrt(df['Newspaper']))\n",
    "np.sqrt(df['Newspaper']).skew()"
   ]
  },
  {
   "cell_type": "markdown",
   "id": "f1e2c839",
   "metadata": {},
   "source": [
    "- Outlier\n",
    "- Missing Value ko handle krna hota hai\n",
    "- Standardization\n",
    "- Nomalization"
   ]
  },
  {
   "cell_type": "code",
   "execution_count": 24,
   "id": "c5bcb973",
   "metadata": {
    "scrolled": false
   },
   "outputs": [
    {
     "data": {
      "text/html": [
       "<div>\n",
       "<style scoped>\n",
       "    .dataframe tbody tr th:only-of-type {\n",
       "        vertical-align: middle;\n",
       "    }\n",
       "\n",
       "    .dataframe tbody tr th {\n",
       "        vertical-align: top;\n",
       "    }\n",
       "\n",
       "    .dataframe thead th {\n",
       "        text-align: right;\n",
       "    }\n",
       "</style>\n",
       "<table border=\"1\" class=\"dataframe\">\n",
       "  <thead>\n",
       "    <tr style=\"text-align: right;\">\n",
       "      <th></th>\n",
       "      <th>TV</th>\n",
       "      <th>Radio</th>\n",
       "      <th>Newspaper</th>\n",
       "      <th>Sales</th>\n",
       "    </tr>\n",
       "  </thead>\n",
       "  <tbody>\n",
       "    <tr>\n",
       "      <th>1</th>\n",
       "      <td>230.100000</td>\n",
       "      <td>37.8</td>\n",
       "      <td>69.2</td>\n",
       "      <td>22.1</td>\n",
       "    </tr>\n",
       "    <tr>\n",
       "      <th>2</th>\n",
       "      <td>44.500000</td>\n",
       "      <td>39.3</td>\n",
       "      <td>45.1</td>\n",
       "      <td>10.4</td>\n",
       "    </tr>\n",
       "    <tr>\n",
       "      <th>3</th>\n",
       "      <td>147.694975</td>\n",
       "      <td>45.9</td>\n",
       "      <td>69.3</td>\n",
       "      <td>9.3</td>\n",
       "    </tr>\n",
       "    <tr>\n",
       "      <th>4</th>\n",
       "      <td>151.500000</td>\n",
       "      <td>41.3</td>\n",
       "      <td>58.5</td>\n",
       "      <td>18.5</td>\n",
       "    </tr>\n",
       "    <tr>\n",
       "      <th>5</th>\n",
       "      <td>180.800000</td>\n",
       "      <td>10.8</td>\n",
       "      <td>58.4</td>\n",
       "      <td>12.9</td>\n",
       "    </tr>\n",
       "  </tbody>\n",
       "</table>\n",
       "</div>"
      ],
      "text/plain": [
       "           TV  Radio  Newspaper  Sales\n",
       "1  230.100000   37.8       69.2   22.1\n",
       "2   44.500000   39.3       45.1   10.4\n",
       "3  147.694975   45.9       69.3    9.3\n",
       "4  151.500000   41.3       58.5   18.5\n",
       "5  180.800000   10.8       58.4   12.9"
      ]
     },
     "execution_count": 24,
     "metadata": {},
     "output_type": "execute_result"
    }
   ],
   "source": [
    "df.head()"
   ]
  },
  {
   "cell_type": "code",
   "execution_count": 25,
   "id": "546013d3",
   "metadata": {},
   "outputs": [],
   "source": [
    "X = df.drop(columns=['Sales'])\n",
    "y = df['Sales']"
   ]
  },
  {
   "cell_type": "code",
   "execution_count": 26,
   "id": "1eeae80e",
   "metadata": {},
   "outputs": [
    {
     "data": {
      "text/html": [
       "<div>\n",
       "<style scoped>\n",
       "    .dataframe tbody tr th:only-of-type {\n",
       "        vertical-align: middle;\n",
       "    }\n",
       "\n",
       "    .dataframe tbody tr th {\n",
       "        vertical-align: top;\n",
       "    }\n",
       "\n",
       "    .dataframe thead th {\n",
       "        text-align: right;\n",
       "    }\n",
       "</style>\n",
       "<table border=\"1\" class=\"dataframe\">\n",
       "  <thead>\n",
       "    <tr style=\"text-align: right;\">\n",
       "      <th></th>\n",
       "      <th>TV</th>\n",
       "      <th>Radio</th>\n",
       "      <th>Newspaper</th>\n",
       "    </tr>\n",
       "  </thead>\n",
       "  <tbody>\n",
       "    <tr>\n",
       "      <th>1</th>\n",
       "      <td>230.100000</td>\n",
       "      <td>37.8</td>\n",
       "      <td>69.2</td>\n",
       "    </tr>\n",
       "    <tr>\n",
       "      <th>2</th>\n",
       "      <td>44.500000</td>\n",
       "      <td>39.3</td>\n",
       "      <td>45.1</td>\n",
       "    </tr>\n",
       "    <tr>\n",
       "      <th>3</th>\n",
       "      <td>147.694975</td>\n",
       "      <td>45.9</td>\n",
       "      <td>69.3</td>\n",
       "    </tr>\n",
       "    <tr>\n",
       "      <th>4</th>\n",
       "      <td>151.500000</td>\n",
       "      <td>41.3</td>\n",
       "      <td>58.5</td>\n",
       "    </tr>\n",
       "    <tr>\n",
       "      <th>5</th>\n",
       "      <td>180.800000</td>\n",
       "      <td>10.8</td>\n",
       "      <td>58.4</td>\n",
       "    </tr>\n",
       "  </tbody>\n",
       "</table>\n",
       "</div>"
      ],
      "text/plain": [
       "           TV  Radio  Newspaper\n",
       "1  230.100000   37.8       69.2\n",
       "2   44.500000   39.3       45.1\n",
       "3  147.694975   45.9       69.3\n",
       "4  151.500000   41.3       58.5\n",
       "5  180.800000   10.8       58.4"
      ]
     },
     "execution_count": 26,
     "metadata": {},
     "output_type": "execute_result"
    }
   ],
   "source": [
    "X.head()"
   ]
  },
  {
   "cell_type": "code",
   "execution_count": 27,
   "id": "7fa3d88d",
   "metadata": {},
   "outputs": [
    {
     "data": {
      "text/plain": [
       "1      22.1\n",
       "2      10.4\n",
       "3       9.3\n",
       "4      18.5\n",
       "5      12.9\n",
       "       ... \n",
       "196     7.6\n",
       "197     9.7\n",
       "198    12.8\n",
       "199    25.5\n",
       "200    13.4\n",
       "Name: Sales, Length: 200, dtype: float64"
      ]
     },
     "execution_count": 27,
     "metadata": {},
     "output_type": "execute_result"
    }
   ],
   "source": [
    "y"
   ]
  },
  {
   "cell_type": "code",
   "execution_count": 28,
   "id": "a13f2203",
   "metadata": {},
   "outputs": [],
   "source": [
    "from sklearn.preprocessing import StandardScaler"
   ]
  },
  {
   "cell_type": "code",
   "execution_count": 29,
   "id": "b9e14dc2",
   "metadata": {},
   "outputs": [],
   "source": [
    "scaler = StandardScaler()"
   ]
  },
  {
   "cell_type": "code",
   "execution_count": 30,
   "id": "e068a03e",
   "metadata": {},
   "outputs": [],
   "source": [
    "X_scaled = scaler.fit_transform(X)"
   ]
  },
  {
   "cell_type": "code",
   "execution_count": 118,
   "id": "0e0e6c96",
   "metadata": {},
   "outputs": [
    {
     "data": {
      "text/plain": [
       "array([[ 9.67839579e-01,  9.81522472e-01,  1.77894547e+00],\n",
       "       [-1.21201566e+00,  1.08280781e+00,  6.69578760e-01],\n",
       "       [ 0.00000000e+00,  1.52846331e+00,  1.78354865e+00],\n",
       "       [ 4.46896765e-02,  1.21785493e+00,  1.28640506e+00],\n",
       "       [ 3.88815531e-01, -8.41613655e-01,  1.28180188e+00],\n",
       "       [-1.63248343e+00,  1.73103399e+00,  2.04592999e+00],\n",
       "       [-1.05933183e+00,  6.43904671e-01, -3.24708413e-01],\n",
       "       [-3.22925997e-01, -2.47406325e-01, -8.72486994e-01],\n",
       "       [-1.63365792e+00, -1.42906863e+00, -1.36042422e+00],\n",
       "       [ 6.11968815e-01, -1.39530685e+00, -4.30581584e-01],\n",
       "       [-9.58325612e-01, -1.17923146e+00, -2.92486143e-01],\n",
       "       [ 7.86967969e-01,  4.96973404e-02, -1.22232878e+00],\n",
       "       [-1.45513529e+00,  7.99208859e-01,  1.62704048e+00],\n",
       "       [-5.89535447e-01, -1.05768905e+00, -1.07502697e+00],\n",
       "       [ 6.62471926e-01,  6.50657027e-01,  7.11007392e-01],\n",
       "       [ 5.60291212e-01,  1.65000572e+00,  1.02862691e+00],\n",
       "       [-9.38359265e-01,  9.00494200e-01,  3.84117072e+00],\n",
       "       [ 1.57035345e+00,  1.10306488e+00,  1.16211917e+00],\n",
       "       [-9.21916391e-01, -1.86635121e-01, -5.64073843e-01],\n",
       "       [-4.63894423e-03,  4.29449843e-02, -5.27248393e-01],\n",
       "       [ 8.30424135e-01,  2.99534513e-01,  1.05164281e+00],\n",
       "       [ 1.05357742e+00, -1.22649795e+00, -3.24708413e-01],\n",
       "       [-1.57963133e+00, -4.97243498e-01,  8.76721921e-01],\n",
       "       [ 9.46698741e-01, -4.29719938e-01, -2.00422516e-01],\n",
       "       [-1.00295627e+00, -7.20071247e-01, -5.64073843e-01],\n",
       "       [ 1.35307262e+00, -1.33453565e+00, -5.08835667e-01],\n",
       "       [-5.63165469e-02,  4.07572210e-01, -8.26455181e-01],\n",
       "       [ 1.08528868e+00, -4.43224650e-01, -3.52327501e-01],\n",
       "       [ 1.18746939e+00,  2.59020377e-01, -3.52327501e-01],\n",
       "       [-9.05473518e-01, -4.90491142e-01,  4.71641962e-01],\n",
       "       [ 1.70541991e+00,  3.40048650e-01,  5.82118314e-01],\n",
       "       [-4.08663838e-01, -3.95958157e-01,  3.70371972e-01],\n",
       "       [-5.93058920e-01, -1.46958277e+00, -2.55016247e-02],\n",
       "       [ 1.38478387e+00, -2.20396901e-01, -1.39264649e+00],\n",
       "       [-6.10676285e-01, -1.47633512e+00, -1.06582061e+00],\n",
       "       [ 1.67958111e+00, -1.29402151e+00, -1.01518562e+00],\n",
       "       [ 1.40005226e+00,  1.38666383e+00, -1.17629696e+00],\n",
       "       [-8.57319388e-01,  1.76479577e+00,  6.97197848e-01],\n",
       "       [-1.22845853e+00,  2.32010953e-01,  2.09260624e-01],\n",
       "       [ 9.43175268e-01,  9.74770116e-01,  6.65620024e-02],\n",
       "       [ 6.43680071e-01, -6.50927121e-02,  4.81492770e-02],\n",
       "       [ 3.44184874e-01,  6.84418807e-01,  3.74975153e-01],\n",
       "       [ 1.71364134e+00,  2.99534513e-01, -1.32359877e+00],\n",
       "       [ 6.95357674e-01, -1.00367020e+00, -1.91216154e-01],\n",
       "       [-1.43986691e+00,  1.64487393e-01,  5.86721496e-01],\n",
       "       [ 3.21869545e-01, -5.15880000e-02,  4.35460956e-02],\n",
       "       [-6.81145743e-01, -9.02384859e-01,  2.36879713e-01],\n",
       "       [ 1.08293969e+00,  1.23135965e+00, -5.54867481e-01],\n",
       "       [ 9.33779340e-01, -5.03995854e-01,  8.90531465e-01],\n",
       "       [-9.48929684e-01, -7.80842451e-01,  2.87514708e-01],\n",
       "       [ 6.11968815e-01, -1.36154507e+00,  1.86244718e-01],\n",
       "       [-5.55475209e-01, -9.22641928e-01, -1.24074150e+00],\n",
       "       [ 8.06934316e-01,  1.24486436e+00,  4.16403786e-01],\n",
       "       [ 4.09956368e-01,  1.54872038e+00,  1.29561142e+00],\n",
       "       [ 1.35072363e+00,  3.73810430e-01, -6.74550196e-01],\n",
       "       [ 6.01398396e-01,  1.76479577e+00,  1.35545278e+00],\n",
       "       [-1.64892630e+00,  3.26543937e-01,  4.99261050e-01],\n",
       "       [-1.35007442e-01, -2.74415749e-01, -6.42327927e-01],\n",
       "       [ 7.41162821e-01,  1.77830048e+00,  3.28943340e-01],\n",
       "       [ 7.39988330e-01,  4.21076922e-01, -9.78360166e-01],\n",
       "       [-1.10631147e+00, -1.43582099e+00, -4.21375221e-01],\n",
       "       [ 1.33428076e+00,  1.31238792e+00,  1.11148417e+00],\n",
       "       [ 1.07589275e+00, -5.24252922e-01, -1.49787521e-01],\n",
       "       [-5.28461917e-01,  4.27829278e-01, -1.01978880e+00],\n",
       "       [-1.94906481e-01,  1.31914027e+00, -7.61366196e-02],\n",
       "       [-9.24265373e-01, -9.42898996e-01, -1.36502740e+00],\n",
       "       [-1.36469949e+00,  9.02114765e-02, -1.30518604e+00],\n",
       "       [-9.85982218e-02, -5.91776482e-01, -9.36931533e-01],\n",
       "       [ 1.05357742e+00,  2.86029801e-01, -9.00106083e-01],\n",
       "       [ 8.11632280e-01,  1.39341619e+00, -1.54390703e-01],\n",
       "       [ 6.03747378e-01,  4.95352838e-01,  3.74975153e-01],\n",
       "       [-4.45073058e-01, -6.05281194e-01,  5.27524584e-02],\n",
       "       [-1.41990056e+00,  6.57409383e-01, -5.18042030e-01],\n",
       "       [-2.14872828e-01, -1.18598381e+00,  3.43397329e-02],\n",
       "       [ 7.71699587e-01,  9.02114765e-02, -8.03439274e-01],\n",
       "       [-1.53617517e+00,  1.37991148e+00,  2.70878810e+00],\n",
       "       [-1.41167913e+00, -1.46283041e+00, -4.53597491e-01],\n",
       "       [-3.19402524e-01,  3.53553362e-01, -7.52804279e-01],\n",
       "       [-1.67124163e+00,  4.48086346e-01, -9.73756984e-01],\n",
       "       [-3.72254618e-01, -1.05093669e+00, -3.43121138e-01],\n",
       "       [-8.37353042e-01,  2.32010953e-01, -3.79946589e-01],\n",
       "       [ 1.08176520e+00, -1.29402151e+00,  2.92117889e-01],\n",
       "       [-8.50272442e-01, -2.00139833e-01,  8.95779092e-02],\n",
       "       [-9.31312319e-01,  1.43393033e+00,  2.32276531e-01],\n",
       "       [ 7.72874078e-01,  1.33264499e+00,  1.49419267e-01],\n",
       "       [ 5.34452411e-01, -3.28434597e-01,  1.61783412e+00],\n",
       "       [-8.38527533e-01,  2.86029801e-01, -6.69947015e-01],\n",
       "       [-4.34502639e-01,  1.17058844e+00,  1.50275459e+00],\n",
       "       [-6.97588616e-01,  1.50982681e-01,  1.97227908e+00],\n",
       "       [-4.45073058e-01,  1.65675807e+00,  9.59579186e-01],\n",
       "       [-1.57322770e-01, -1.24000266e+00, -9.78360166e-01],\n",
       "       [-1.39875973e+00, -1.46958277e+00,  1.12593816e-01],\n",
       "       [ 8.22202698e-01,  6.91171163e-01,  1.30942097e+00],\n",
       "       [ 1.21213370e+00,  8.93741844e-01,  1.92164409e+00],\n",
       "       [-4.73260841e-01, -6.25538262e-01, -9.04709264e-01],\n",
       "       [ 1.83279611e-01,  5.62876398e-01,  1.02862691e+00],\n",
       "       [ 5.86130013e-01, -1.33453565e+00, -1.13486833e+00],\n",
       "       [ 4.36969660e-01, -1.52873340e-01, -3.93756133e-01],\n",
       "       [ 1.66783620e+00,  1.28537849e+00,  9.50372823e-01],\n",
       "       [-1.46752352e-01,  1.24486436e+00,  7.06404211e-01],\n",
       "       [ 8.77403774e-01, -1.28051680e+00,  8.85928284e-01],\n",
       "       [ 1.74652709e+00,  8.80237132e-01,  3.23815396e+00],\n",
       "       [ 1.55625955e+00, -8.88880147e-01, -4.21375221e-01],\n",
       "       [ 4.72204389e-01, -4.09462869e-01, -5.82486569e-01],\n",
       "       [ 1.06297335e+00,  7.45190011e-01, -1.16248742e+00],\n",
       "       [-1.15041095e-01,  1.56222509e+00,  1.30942097e+00],\n",
       "       [-1.44104140e+00, -8.28108943e-01, -3.93111688e-02],\n",
       "       [-6.72924306e-01, -1.55061104e+00, -3.38517957e-01],\n",
       "       [-1.58080583e+00, -1.54385868e+00, -2.28041604e-01],\n",
       "       [ 1.26498579e+00,  2.45515665e-01, -1.15328106e+00],\n",
       "       [ 9.17336467e-01, -1.01717491e+00,  1.19434143e+00],\n",
       "       [ 1.10408053e+00,  9.95027184e-01, -3.38517957e-01],\n",
       "       [ 3.28916491e-01, -5.31005278e-01, -1.29597968e+00],\n",
       "       [ 7.27068930e-01, -1.79882765e-01, -9.13915627e-01],\n",
       "       [-8.16212204e-01,  1.58923451e+00,  1.81641536e-01],\n",
       "       [-8.52621424e-01,  7.92456503e-01,  1.01942054e+00],\n",
       "       [-9.97727128e-02, -6.05281194e-01, -2.28041604e-01],\n",
       "       [-8.37353042e-01, -1.51684926e+00, -7.25185191e-01],\n",
       "       [-2.58328994e-01,  9.20751268e-01,  2.23926360e+00],\n",
       "       [-1.50681289e+00, -4.90491142e-01, -3.79946589e-01],\n",
       "       [-7.51084024e-02,  2.38763309e-01,  7.20213755e-01],\n",
       "       [-1.51385984e+00, -1.05606848e-01,  9.13547372e-01],\n",
       "       [ 8.96195629e-01, -1.40881156e+00, -6.88359740e-01],\n",
       "       [-2.88865759e-01,  7.65447079e-01, -8.35661544e-01],\n",
       "       [ 9.60792633e-01,  6.10142891e-01,  2.00910454e+00],\n",
       "       [-7.10508017e-01, -7.74090095e-01, -2.14232060e-01],\n",
       "       [-1.64305385e+00,  1.05579839e+00,  9.22753735e-01],\n",
       "       [-7.92722385e-01, -1.57086811e+00, -9.82963347e-01],\n",
       "       [ 8.52739464e-01,  1.73778635e+00, -1.25915423e+00],\n",
       "       [-1.03466752e+00, -7.60585383e-01,  5.77515133e-01],\n",
       "       [-1.72644271e+00,  1.10306488e+00, -1.00597925e+00],\n",
       "       [ 1.38008591e+00, -1.37504978e+00,  5.72911952e-01],\n",
       "       [-1.63600690e+00,  2.65772733e-01, -1.30978922e+00],\n",
       "       [ 8.46867009e-01,  6.91171163e-01,  6.69578760e-01],\n",
       "       [-1.30127697e+00,  1.03554132e+00,  1.61323094e+00],\n",
       "       [-1.16738500e+00,  1.60273923e+00, -1.01518562e+00],\n",
       "       [-1.43399445e+00,  1.06255074e+00, -9.78360166e-01],\n",
       "       [ 1.47991764e+00,  3.80562786e-01,  1.34164324e+00],\n",
       "       [-1.22963303e+00,  1.77992105e-01, -4.62803854e-01],\n",
       "       [ 4.36969660e-01,  1.39341619e+00, -1.32820195e+00],\n",
       "       [-8.72587771e-01, -4.22967582e-01, -8.12645637e-01],\n",
       "       [ 5.40324866e-01,  8.19465927e-01,  2.07354907e+00],\n",
       "       [ 8.55088445e-01,  6.70914095e-01,  3.38149702e-01],\n",
       "       [-5.06146588e-01, -1.18598381e+00,  1.77038355e-01],\n",
       "       [-6.04803830e-01, -5.71519414e-01,  3.84181516e-01],\n",
       "       [-8.68533121e-02, -1.44257334e+00, -9.92169710e-01],\n",
       "       [ 1.08528868e+00, -1.07794612e+00, -1.00597925e+00],\n",
       "       [ 1.12169790e+00,  1.73778635e+00,  6.32753309e-01],\n",
       "       [-1.28835757e+00,  1.15033137e+00, -8.58677450e-01],\n",
       "       [-1.20966668e+00,  1.71239749e-01, -4.58200672e-01],\n",
       "       [ 1.56213201e+00, -6.32290618e-01,  2.96721070e-01],\n",
       "       [-3.13530069e-01, -1.00367020e+00,  8.35293289e-01],\n",
       "       [ 5.86130013e-01,  2.43084817e-03, -7.52804279e-01],\n",
       "       [ 2.77238888e-01,  1.10981724e+00,  3.28943340e-01],\n",
       "       [ 4.71029898e-01, -1.46120984e-01, -9.69153803e-01],\n",
       "       [-1.68651001e+00, -7.87594807e-01, -1.14407469e+00],\n",
       "       [-6.31817122e-01,  1.36640677e+00,  9.18150553e-01],\n",
       "       [ 2.47233300e-02, -1.48308748e+00, -2.87882962e-01],\n",
       "       [-1.59724870e+00,  9.20751268e-01,  6.74181942e-01],\n",
       "       [-1.87859535e-01, -3.28434597e-01,  1.86244718e-01],\n",
       "       [ 2.91332780e-01, -3.48691665e-01,  6.72064478e-03],\n",
       "       [-7.28125381e-01,  8.46475352e-01,  8.62912377e-01],\n",
       "       [ 4.78076844e-01, -3.48691665e-01, -2.28041604e-01],\n",
       "       [ 1.85628593e-01,  9.13998912e-01, -1.06582061e+00],\n",
       "       [-3.58160726e-01, -5.78271770e-01, -1.15788424e+00],\n",
       "       [ 1.01951718e+00, -1.34128800e+00,  2.49704176e+00],\n",
       "       [-1.52443026e+00,  9.68017760e-01, -4.12168859e-01],\n",
       "       [ 6.94183183e-01, -1.21974559e+00, -5.13438849e-01],\n",
       "       [ 7.95189406e-01,  2.26879163e-02,  1.24497643e+00],\n",
       "       [ 1.60441368e+00, -8.55118367e-01, -1.11185242e+00],\n",
       "       [-1.14741866e+00, -7.87594807e-01, -5.59470662e-01],\n",
       "       [ 1.97373503e-01, -1.59625696e-01,  7.75451931e-01],\n",
       "       [-1.50446391e+00, -2.13644545e-01, -6.23915201e-01],\n",
       "       [ 2.43178650e-01, -1.09145083e+00, -8.17248818e-01],\n",
       "       [ 8.77403774e-01, -1.34128800e+00, -8.03439274e-01],\n",
       "       [ 1.51750135e+00,  1.73103399e+00,  5.17673775e-01],\n",
       "       [ 1.18277143e+00,  4.68343414e-01, -4.72010216e-01],\n",
       "       [ 2.64319488e-01, -1.04418434e+00,  2.13863806e-01],\n",
       "       [ 1.51515237e+00, -1.41556392e+00, -3.15502050e-01],\n",
       "       [ 2.10292903e-01, -8.95632503e-01, -5.96296113e-01],\n",
       "       [ 1.04588716e-01, -1.39530685e+00, -1.02439198e+00],\n",
       "       [ 8.31598626e-01, -1.20624088e+00, -1.45184340e-01],\n",
       "       [-1.07460022e+00, -1.18598381e+00, -3.93111688e-02],\n",
       "       [ 1.64317189e+00,  1.33264499e+00,  1.89862818e+00],\n",
       "       [ 1.24619394e+00, -1.32616272e-01, -2.55016247e-02],\n",
       "       [ 6.73042345e-01,  1.47444446e+00, -5.04232486e-01],\n",
       "       [-9.62492399e-02, -1.42906863e+00, -1.82009791e-01],\n",
       "       [ 5.09788100e-01,  3.67058074e-01, -5.68677025e-01],\n",
       "       [ 1.62438003e+00, -6.32290618e-01, -1.23613832e+00],\n",
       "       [-1.51503433e+00, -7.53833027e-01, -3.29311594e-01],\n",
       "       [-1.27074021e+00,  1.20435022e+00, -1.13947151e+00],\n",
       "       [-8.47923460e-01, -8.41613655e-01, -1.13026515e+00],\n",
       "       [-1.53265170e+00, -1.29402151e+00,  4.81492770e-02],\n",
       "       [ 2.24386795e-01,  1.26512143e+00, -1.24074150e+00],\n",
       "       [ 2.35488390e-02,  8.32970639e-01, -1.13026515e+00],\n",
       "       [-1.28600859e+00, -1.32103093e+00, -7.71217005e-01],\n",
       "       [-6.28293649e-01, -1.24000266e+00, -1.03359834e+00],\n",
       "       [ 3.44184874e-01, -9.42898996e-01, -1.11185242e+00],\n",
       "       [ 1.59619225e+00,  1.26512143e+00,  1.64085003e+00],\n",
       "       [ 9.91329398e-01, -9.90165488e-01, -1.00597925e+00]])"
      ]
     },
     "execution_count": 118,
     "metadata": {},
     "output_type": "execute_result"
    }
   ],
   "source": [
    "X_scaled"
   ]
  },
  {
   "cell_type": "code",
   "execution_count": 32,
   "id": "52e0e243",
   "metadata": {},
   "outputs": [],
   "source": [
    "from sklearn.linear_model import LinearRegression"
   ]
  },
  {
   "cell_type": "code",
   "execution_count": 33,
   "id": "8859d182",
   "metadata": {},
   "outputs": [],
   "source": [
    "lin_reg = LinearRegression()"
   ]
  },
  {
   "cell_type": "code",
   "execution_count": 35,
   "id": "9916a4b7",
   "metadata": {},
   "outputs": [],
   "source": [
    "from sklearn.model_selection import train_test_split"
   ]
  },
  {
   "cell_type": "code",
   "execution_count": 103,
   "id": "e3e49a82",
   "metadata": {},
   "outputs": [],
   "source": [
    "X_train, X_test, y_train, y_test = train_test_split(X_scaled, y, test_size=0.2, random_state=52)"
   ]
  },
  {
   "cell_type": "code",
   "execution_count": 104,
   "id": "2e76c037",
   "metadata": {},
   "outputs": [
    {
     "name": "stdout",
     "output_type": "stream",
     "text": [
      "(160, 3) (40, 3) (160,) (40,)\n"
     ]
    }
   ],
   "source": [
    "print(X_train.shape, X_test.shape, y_train.shape, y_test.shape)"
   ]
  },
  {
   "cell_type": "code",
   "execution_count": 105,
   "id": "5c1f1978",
   "metadata": {},
   "outputs": [],
   "source": [
    "lin_reg = LinearRegression()"
   ]
  },
  {
   "cell_type": "code",
   "execution_count": 106,
   "id": "bc48f458",
   "metadata": {},
   "outputs": [
    {
     "data": {
      "text/plain": [
       "LinearRegression()"
      ]
     },
     "execution_count": 106,
     "metadata": {},
     "output_type": "execute_result"
    }
   ],
   "source": [
    "lin_reg.fit(X_train, y_train)"
   ]
  },
  {
   "cell_type": "code",
   "execution_count": 107,
   "id": "30beaef3",
   "metadata": {},
   "outputs": [
    {
     "data": {
      "text/plain": [
       "0.8327436574324338"
      ]
     },
     "execution_count": 107,
     "metadata": {},
     "output_type": "execute_result"
    }
   ],
   "source": [
    "lin_reg.score(X_test, y_test)"
   ]
  },
  {
   "cell_type": "code",
   "execution_count": 108,
   "id": "87cb1c4e",
   "metadata": {},
   "outputs": [
    {
     "data": {
      "text/plain": [
       "0.5719972522214658"
      ]
     },
     "execution_count": 108,
     "metadata": {},
     "output_type": "execute_result"
    }
   ],
   "source": [
    "y_train.skew()"
   ]
  },
  {
   "cell_type": "code",
   "execution_count": 109,
   "id": "41156742",
   "metadata": {},
   "outputs": [
    {
     "data": {
      "text/plain": [
       "0.1622122816444339"
      ]
     },
     "execution_count": 109,
     "metadata": {},
     "output_type": "execute_result"
    }
   ],
   "source": [
    "y_test.skew()"
   ]
  },
  {
   "cell_type": "code",
   "execution_count": 110,
   "id": "61d1247f",
   "metadata": {},
   "outputs": [],
   "source": [
    "from sklearn.linear_model import Lasso, LassoCV"
   ]
  },
  {
   "cell_type": "code",
   "execution_count": 111,
   "id": "9d8ab475",
   "metadata": {},
   "outputs": [],
   "source": [
    "lassocv = LassoCV(cv = 5, max_iter=200000, normalize=True)"
   ]
  },
  {
   "cell_type": "code",
   "execution_count": 112,
   "id": "7c1d216f",
   "metadata": {},
   "outputs": [
    {
     "name": "stderr",
     "output_type": "stream",
     "text": [
      "C:\\Users\\harsh\\anaconda3\\lib\\site-packages\\sklearn\\linear_model\\_base.py:141: FutureWarning: 'normalize' was deprecated in version 1.0 and will be removed in 1.2.\n",
      "If you wish to scale the data, use Pipeline with a StandardScaler in a preprocessing stage. To reproduce the previous behavior:\n",
      "\n",
      "from sklearn.pipeline import make_pipeline\n",
      "\n",
      "model = make_pipeline(StandardScaler(with_mean=False), Lasso())\n",
      "\n",
      "If you wish to pass a sample_weight parameter, you need to pass it as a fit parameter to each step of the pipeline as follows:\n",
      "\n",
      "kwargs = {s[0] + '__sample_weight': sample_weight for s in model.steps}\n",
      "model.fit(X, y, **kwargs)\n",
      "\n",
      "Set parameter alpha to: original_alpha * np.sqrt(n_samples). \n",
      "  warnings.warn(\n"
     ]
    },
    {
     "data": {
      "text/plain": [
       "LassoCV(cv=5, max_iter=200000, normalize=True)"
      ]
     },
     "execution_count": 112,
     "metadata": {},
     "output_type": "execute_result"
    }
   ],
   "source": [
    "lassocv.fit(X_train, y_train)"
   ]
  },
  {
   "cell_type": "code",
   "execution_count": 113,
   "id": "1cc93f3f",
   "metadata": {},
   "outputs": [
    {
     "data": {
      "text/plain": [
       "0.000295997229893224"
      ]
     },
     "execution_count": 113,
     "metadata": {},
     "output_type": "execute_result"
    }
   ],
   "source": [
    "lassocv.alpha_"
   ]
  },
  {
   "cell_type": "code",
   "execution_count": 114,
   "id": "6d370780",
   "metadata": {},
   "outputs": [],
   "source": [
    "lasso = Lasso(alpha=lassocv.alpha_)"
   ]
  },
  {
   "cell_type": "code",
   "execution_count": 115,
   "id": "f1bbeab7",
   "metadata": {},
   "outputs": [
    {
     "data": {
      "text/plain": [
       "Lasso(alpha=0.000295997229893224)"
      ]
     },
     "execution_count": 115,
     "metadata": {},
     "output_type": "execute_result"
    }
   ],
   "source": [
    "lasso.fit(X_train, y_train)"
   ]
  },
  {
   "cell_type": "code",
   "execution_count": 116,
   "id": "212baeb3",
   "metadata": {},
   "outputs": [
    {
     "data": {
      "text/plain": [
       "(0.8327567556332445, 0.901828012284353)"
      ]
     },
     "execution_count": 116,
     "metadata": {},
     "output_type": "execute_result"
    }
   ],
   "source": [
    "lasso.score(X_test, y_test), lasso.score(X_train, y_train)"
   ]
  },
  {
   "cell_type": "code",
   "execution_count": null,
   "id": "0b474e0a",
   "metadata": {},
   "outputs": [],
   "source": []
  }
 ],
 "metadata": {
  "kernelspec": {
   "display_name": "Python 3 (ipykernel)",
   "language": "python",
   "name": "python3"
  },
  "language_info": {
   "codemirror_mode": {
    "name": "ipython",
    "version": 3
   },
   "file_extension": ".py",
   "mimetype": "text/x-python",
   "name": "python",
   "nbconvert_exporter": "python",
   "pygments_lexer": "ipython3",
   "version": "3.9.4"
  }
 },
 "nbformat": 4,
 "nbformat_minor": 5
}
